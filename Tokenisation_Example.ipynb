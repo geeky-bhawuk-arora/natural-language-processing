{
  "nbformat": 4,
  "nbformat_minor": 0,
  "metadata": {
    "colab": {
      "provenance": [],
      "authorship_tag": "ABX9TyOz6zD7wxGUfczf4rzagyxR",
      "include_colab_link": true
    },
    "kernelspec": {
      "name": "python3",
      "display_name": "Python 3"
    },
    "language_info": {
      "name": "python"
    }
  },
  "cells": [
    {
      "cell_type": "markdown",
      "metadata": {
        "id": "view-in-github",
        "colab_type": "text"
      },
      "source": [
        "<a href=\"https://colab.research.google.com/github/geeky-bhawuk-arora/natural-language-processing/blob/main/Tokenisation_Example.ipynb\" target=\"_parent\"><img src=\"https://colab.research.google.com/assets/colab-badge.svg\" alt=\"Open In Colab\"/></a>"
      ]
    },
    {
      "cell_type": "code",
      "execution_count": 40,
      "metadata": {
        "colab": {
          "base_uri": "https://localhost:8080/"
        },
        "id": "WQ0Gp3j9zn8G",
        "outputId": "7fa32c88-e148-4bc0-9fa6-59bdf6f87b94"
      },
      "outputs": [
        {
          "output_type": "stream",
          "name": "stdout",
          "text": [
            "Requirement already satisfied: nltk in /usr/local/lib/python3.11/dist-packages (3.9.1)\n",
            "Requirement already satisfied: click in /usr/local/lib/python3.11/dist-packages (from nltk) (8.1.8)\n",
            "Requirement already satisfied: joblib in /usr/local/lib/python3.11/dist-packages (from nltk) (1.4.2)\n",
            "Requirement already satisfied: regex>=2021.8.3 in /usr/local/lib/python3.11/dist-packages (from nltk) (2024.11.6)\n",
            "Requirement already satisfied: tqdm in /usr/local/lib/python3.11/dist-packages (from nltk) (4.67.1)\n"
          ]
        }
      ],
      "source": [
        "!pip install nltk"
      ]
    },
    {
      "cell_type": "code",
      "source": [
        "import nltk\n",
        "nltk.download('punkt_tab')"
      ],
      "metadata": {
        "colab": {
          "base_uri": "https://localhost:8080/"
        },
        "id": "gtqVMiSK3Zos",
        "outputId": "f1cb94ea-141e-4670-869b-5c7f7f049faf"
      },
      "execution_count": 41,
      "outputs": [
        {
          "output_type": "stream",
          "name": "stderr",
          "text": [
            "[nltk_data] Downloading package punkt_tab to /root/nltk_data...\n",
            "[nltk_data]   Package punkt_tab is already up-to-date!\n"
          ]
        },
        {
          "output_type": "execute_result",
          "data": {
            "text/plain": [
              "True"
            ]
          },
          "metadata": {},
          "execution_count": 41
        }
      ]
    },
    {
      "cell_type": "code",
      "source": [
        "corpus = \"\"\"Hello and welcome! I am 'Bhawuk Arora', a dedicated B.Tech student specializing in AI & Data Science\n",
        "at Poornima College of Engineering, Jaipur.\"\"\""
      ],
      "metadata": {
        "id": "FJulvWYV0NdT"
      },
      "execution_count": 42,
      "outputs": []
    },
    {
      "cell_type": "code",
      "source": [
        "corpus"
      ],
      "metadata": {
        "colab": {
          "base_uri": "https://localhost:8080/",
          "height": 55
        },
        "id": "gh33YbfJ2EXk",
        "outputId": "5ceb3967-475d-4d06-9696-53f923118edd"
      },
      "execution_count": 43,
      "outputs": [
        {
          "output_type": "execute_result",
          "data": {
            "text/plain": [
              "\"Hello and welcome! I am 'Bhawuk Arora', a dedicated B.Tech student specializing in AI & Data Science \\nat Poornima College of Engineering, Jaipur.\""
            ],
            "application/vnd.google.colaboratory.intrinsic+json": {
              "type": "string"
            }
          },
          "metadata": {},
          "execution_count": 43
        }
      ]
    },
    {
      "cell_type": "code",
      "source": [
        "# Tokenisation\n",
        "# Sentence --> Paragraphs\n",
        "\n",
        "from nltk.tokenize import sent_tokenize\n",
        "sent_tokenize(corpus)"
      ],
      "metadata": {
        "colab": {
          "base_uri": "https://localhost:8080/"
        },
        "id": "rsURnTQg2M2_",
        "outputId": "a9e942b3-9fc8-4e59-e9b0-938a11c5d185"
      },
      "execution_count": 44,
      "outputs": [
        {
          "output_type": "execute_result",
          "data": {
            "text/plain": [
              "['Hello and welcome!',\n",
              " \"I am 'Bhawuk Arora', a dedicated B.Tech student specializing in AI & Data Science \\nat Poornima College of Engineering, Jaipur.\"]"
            ]
          },
          "metadata": {},
          "execution_count": 44
        }
      ]
    },
    {
      "cell_type": "code",
      "source": [
        "type(documents)"
      ],
      "metadata": {
        "colab": {
          "base_uri": "https://localhost:8080/"
        },
        "id": "_IECOL_64-jz",
        "outputId": "020d2f64-805f-4d08-c4c4-5a40bd2d885f"
      },
      "execution_count": 45,
      "outputs": [
        {
          "output_type": "execute_result",
          "data": {
            "text/plain": [
              "list"
            ]
          },
          "metadata": {},
          "execution_count": 45
        }
      ]
    },
    {
      "cell_type": "code",
      "source": [
        "for sentence in documents:\n",
        "  print(sentence)"
      ],
      "metadata": {
        "colab": {
          "base_uri": "https://localhost:8080/"
        },
        "id": "CHs934mu5IA7",
        "outputId": "1a9b989e-53f0-4653-a54b-97f50a14bb0b"
      },
      "execution_count": 46,
      "outputs": [
        {
          "output_type": "stream",
          "name": "stdout",
          "text": [
            "Hello and welcome!\n",
            "I am Bhawuk Arora, a dedicated B.Tech student specializing in AI & Data Science \n",
            "at Poornima College of Engineering, Jaipur.\n"
          ]
        }
      ]
    },
    {
      "cell_type": "code",
      "source": [
        "# Tokenisation\n",
        "# Paragraph --> Words\n",
        "# Sentence --> Words\n",
        "\n",
        "from nltk.tokenize import word_tokenize\n",
        "\n",
        "words = word_tokenize(corpus)\n",
        "print(words)"
      ],
      "metadata": {
        "colab": {
          "base_uri": "https://localhost:8080/"
        },
        "id": "i5oXCRk85Vi0",
        "outputId": "9d6b16a9-ae9c-4cd8-bfe5-b8e3a8f91225"
      },
      "execution_count": 47,
      "outputs": [
        {
          "output_type": "stream",
          "name": "stdout",
          "text": [
            "['Hello', 'and', 'welcome', '!', 'I', 'am', \"'Bhawuk\", 'Arora', \"'\", ',', 'a', 'dedicated', 'B.Tech', 'student', 'specializing', 'in', 'AI', '&', 'Data', 'Science', 'at', 'Poornima', 'College', 'of', 'Engineering', ',', 'Jaipur', '.']\n"
          ]
        }
      ]
    },
    {
      "cell_type": "code",
      "source": [
        "for sentence in documents:\n",
        "  print(word_tokenize(sentence))"
      ],
      "metadata": {
        "colab": {
          "base_uri": "https://localhost:8080/"
        },
        "id": "6bLenKXd6GSZ",
        "outputId": "cff0c474-86f9-4aa0-d892-fdc7d56f41e3"
      },
      "execution_count": 48,
      "outputs": [
        {
          "output_type": "stream",
          "name": "stdout",
          "text": [
            "['Hello', 'and', 'welcome', '!']\n",
            "['I', 'am', 'Bhawuk', 'Arora', ',', 'a', 'dedicated', 'B.Tech', 'student', 'specializing', 'in', 'AI', '&', 'Data', 'Science', 'at', 'Poornima', 'College', 'of', 'Engineering', ',', 'Jaipur', '.']\n"
          ]
        }
      ]
    },
    {
      "cell_type": "code",
      "source": [
        "from nltk.tokenize import wordpunct_tokenize\n",
        "\n",
        "wordpunct_tokenize(corpus)"
      ],
      "metadata": {
        "colab": {
          "base_uri": "https://localhost:8080/"
        },
        "id": "PGaX-qMg6kzC",
        "outputId": "64d52950-0021-4f8c-f0aa-06bf363b8a04"
      },
      "execution_count": 49,
      "outputs": [
        {
          "output_type": "execute_result",
          "data": {
            "text/plain": [
              "['Hello',\n",
              " 'and',\n",
              " 'welcome',\n",
              " '!',\n",
              " 'I',\n",
              " 'am',\n",
              " \"'\",\n",
              " 'Bhawuk',\n",
              " 'Arora',\n",
              " \"',\",\n",
              " 'a',\n",
              " 'dedicated',\n",
              " 'B',\n",
              " '.',\n",
              " 'Tech',\n",
              " 'student',\n",
              " 'specializing',\n",
              " 'in',\n",
              " 'AI',\n",
              " '&',\n",
              " 'Data',\n",
              " 'Science',\n",
              " 'at',\n",
              " 'Poornima',\n",
              " 'College',\n",
              " 'of',\n",
              " 'Engineering',\n",
              " ',',\n",
              " 'Jaipur',\n",
              " '.']"
            ]
          },
          "metadata": {},
          "execution_count": 49
        }
      ]
    },
    {
      "cell_type": "code",
      "source": [],
      "metadata": {
        "id": "rRMzMHLt7AAS"
      },
      "execution_count": null,
      "outputs": []
    }
  ]
}