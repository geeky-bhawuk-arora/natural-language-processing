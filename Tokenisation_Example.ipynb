{
  "nbformat": 4,
  "nbformat_minor": 0,
  "metadata": {
    "colab": {
      "provenance": [],
      "authorship_tag": "ABX9TyMNPssE/3TlmnVVzwCJ3r3g",
      "include_colab_link": true
    },
    "kernelspec": {
      "name": "python3",
      "display_name": "Python 3"
    },
    "language_info": {
      "name": "python"
    }
  },
  "cells": [
    {
      "cell_type": "markdown",
      "metadata": {
        "id": "view-in-github",
        "colab_type": "text"
      },
      "source": [
        "<a href=\"https://colab.research.google.com/github/geeky-bhawuk-arora/natural-language-processing/blob/main/Tokenisation_Example.ipynb\" target=\"_parent\"><img src=\"https://colab.research.google.com/assets/colab-badge.svg\" alt=\"Open In Colab\"/></a>"
      ]
    },
    {
      "cell_type": "code",
      "execution_count": null,
      "metadata": {
        "colab": {
          "base_uri": "https://localhost:8080/"
        },
        "id": "WQ0Gp3j9zn8G",
        "outputId": "ba08f7a6-5b53-42e1-fcb0-9e0bcd8507c4"
      },
      "outputs": [
        {
          "output_type": "stream",
          "name": "stdout",
          "text": [
            "Requirement already satisfied: nltk in /usr/local/lib/python3.11/dist-packages (3.9.1)\n",
            "Requirement already satisfied: click in /usr/local/lib/python3.11/dist-packages (from nltk) (8.1.8)\n",
            "Requirement already satisfied: joblib in /usr/local/lib/python3.11/dist-packages (from nltk) (1.4.2)\n",
            "Requirement already satisfied: regex>=2021.8.3 in /usr/local/lib/python3.11/dist-packages (from nltk) (2024.11.6)\n",
            "Requirement already satisfied: tqdm in /usr/local/lib/python3.11/dist-packages (from nltk) (4.67.1)\n"
          ]
        }
      ],
      "source": [
        "!pip install nltk"
      ]
    },
    {
      "cell_type": "code",
      "source": [
        "import nltk\n",
        "nltk.download('punkt_tab')"
      ],
      "metadata": {
        "colab": {
          "base_uri": "https://localhost:8080/"
        },
        "id": "gtqVMiSK3Zos",
        "outputId": "1e4dc53e-5640-4f46-d6d6-25c371f43c06"
      },
      "execution_count": null,
      "outputs": [
        {
          "output_type": "stream",
          "name": "stderr",
          "text": [
            "[nltk_data] Downloading package punkt_tab to /root/nltk_data...\n",
            "[nltk_data]   Package punkt_tab is already up-to-date!\n"
          ]
        },
        {
          "output_type": "execute_result",
          "data": {
            "text/plain": [
              "True"
            ]
          },
          "metadata": {},
          "execution_count": 54
        }
      ]
    },
    {
      "cell_type": "code",
      "source": [
        "corpus = \"\"\"Hello and Welcome.! I am 'Bhawuk Arora', a dedicated B.Tech student specializing in AI & Data Science\n",
        "at Poornima College of Engineering, Jaipur.\"\"\""
      ],
      "metadata": {
        "id": "FJulvWYV0NdT"
      },
      "execution_count": null,
      "outputs": []
    },
    {
      "cell_type": "code",
      "source": [
        "corpus"
      ],
      "metadata": {
        "colab": {
          "base_uri": "https://localhost:8080/",
          "height": 55
        },
        "id": "gh33YbfJ2EXk",
        "outputId": "ea2ab087-aa8e-43c8-d91f-1d196cf388e8"
      },
      "execution_count": null,
      "outputs": [
        {
          "output_type": "execute_result",
          "data": {
            "text/plain": [
              "\"Hello and Welcome.! I am 'Bhawuk Arora', a dedicated B.Tech student specializing in AI & Data Science \\nat Poornima College of Engineering, Jaipur.\""
            ],
            "application/vnd.google.colaboratory.intrinsic+json": {
              "type": "string"
            }
          },
          "metadata": {},
          "execution_count": 56
        }
      ]
    },
    {
      "cell_type": "code",
      "source": [
        "# Tokenisation\n",
        "# Sentence --> Paragraphs\n",
        "\n",
        "from nltk.tokenize import sent_tokenize\n",
        "sent_tokenize(corpus)"
      ],
      "metadata": {
        "colab": {
          "base_uri": "https://localhost:8080/"
        },
        "id": "rsURnTQg2M2_",
        "outputId": "ff15b346-a3b7-4a2f-9528-78a525df151a"
      },
      "execution_count": null,
      "outputs": [
        {
          "output_type": "execute_result",
          "data": {
            "text/plain": [
              "['Hello and Welcome.!',\n",
              " \"I am 'Bhawuk Arora', a dedicated B.Tech student specializing in AI & Data Science \\nat Poornima College of Engineering, Jaipur.\"]"
            ]
          },
          "metadata": {},
          "execution_count": 57
        }
      ]
    },
    {
      "cell_type": "code",
      "source": [
        "type(documents)"
      ],
      "metadata": {
        "colab": {
          "base_uri": "https://localhost:8080/"
        },
        "id": "_IECOL_64-jz",
        "outputId": "6eaaaef6-1ee5-4af2-b2a8-22f65425dc90"
      },
      "execution_count": null,
      "outputs": [
        {
          "output_type": "execute_result",
          "data": {
            "text/plain": [
              "list"
            ]
          },
          "metadata": {},
          "execution_count": 58
        }
      ]
    },
    {
      "cell_type": "code",
      "source": [
        "for sentence in documents:\n",
        "  print(sentence)"
      ],
      "metadata": {
        "colab": {
          "base_uri": "https://localhost:8080/"
        },
        "id": "CHs934mu5IA7",
        "outputId": "c88e98c5-3159-4963-bb73-d11fb4113485"
      },
      "execution_count": null,
      "outputs": [
        {
          "output_type": "stream",
          "name": "stdout",
          "text": [
            "Hello and welcome!\n",
            "I am Bhawuk Arora, a dedicated B.Tech student specializing in AI & Data Science \n",
            "at Poornima College of Engineering, Jaipur.\n"
          ]
        }
      ]
    },
    {
      "cell_type": "code",
      "source": [
        "# Tokenisation\n",
        "# Paragraph --> Words\n",
        "# Sentence --> Words\n",
        "\n",
        "from nltk.tokenize import word_tokenize\n",
        "\n",
        "words = word_tokenize(corpus)\n",
        "print(words)"
      ],
      "metadata": {
        "colab": {
          "base_uri": "https://localhost:8080/"
        },
        "id": "i5oXCRk85Vi0",
        "outputId": "1b7e76ee-e329-4f77-e011-c92f1a22b652"
      },
      "execution_count": null,
      "outputs": [
        {
          "output_type": "stream",
          "name": "stdout",
          "text": [
            "['Hello', 'and', 'Welcome.', '!', 'I', 'am', \"'Bhawuk\", 'Arora', \"'\", ',', 'a', 'dedicated', 'B.Tech', 'student', 'specializing', 'in', 'AI', '&', 'Data', 'Science', 'at', 'Poornima', 'College', 'of', 'Engineering', ',', 'Jaipur', '.']\n"
          ]
        }
      ]
    },
    {
      "cell_type": "code",
      "source": [
        "for sentence in documents:\n",
        "  print(word_tokenize(sentence))"
      ],
      "metadata": {
        "colab": {
          "base_uri": "https://localhost:8080/"
        },
        "id": "6bLenKXd6GSZ",
        "outputId": "3030c53d-c615-48b8-d99b-46c6fe6cca7d"
      },
      "execution_count": null,
      "outputs": [
        {
          "output_type": "stream",
          "name": "stdout",
          "text": [
            "['Hello', 'and', 'welcome', '!']\n",
            "['I', 'am', 'Bhawuk', 'Arora', ',', 'a', 'dedicated', 'B.Tech', 'student', 'specializing', 'in', 'AI', '&', 'Data', 'Science', 'at', 'Poornima', 'College', 'of', 'Engineering', ',', 'Jaipur', '.']\n"
          ]
        }
      ]
    },
    {
      "cell_type": "code",
      "source": [
        "from nltk.tokenize import wordpunct_tokenize\n",
        "\n",
        "wordpunct_tokenize(corpus)"
      ],
      "metadata": {
        "colab": {
          "base_uri": "https://localhost:8080/"
        },
        "id": "PGaX-qMg6kzC",
        "outputId": "10440802-fa3f-4b57-f5f9-b3547dc5c0cd"
      },
      "execution_count": null,
      "outputs": [
        {
          "output_type": "execute_result",
          "data": {
            "text/plain": [
              "['Hello',\n",
              " 'and',\n",
              " 'Welcome',\n",
              " '.!',\n",
              " 'I',\n",
              " 'am',\n",
              " \"'\",\n",
              " 'Bhawuk',\n",
              " 'Arora',\n",
              " \"',\",\n",
              " 'a',\n",
              " 'dedicated',\n",
              " 'B',\n",
              " '.',\n",
              " 'Tech',\n",
              " 'student',\n",
              " 'specializing',\n",
              " 'in',\n",
              " 'AI',\n",
              " '&',\n",
              " 'Data',\n",
              " 'Science',\n",
              " 'at',\n",
              " 'Poornima',\n",
              " 'College',\n",
              " 'of',\n",
              " 'Engineering',\n",
              " ',',\n",
              " 'Jaipur',\n",
              " '.']"
            ]
          },
          "metadata": {},
          "execution_count": 62
        }
      ]
    },
    {
      "cell_type": "code",
      "source": [
        "from nltk.tokenize import TreebankWordTokenizer\n",
        "\n",
        "tokenizer = TreebankWordTokenizer()\n",
        "tokenizer.tokenize(corpus)"
      ],
      "metadata": {
        "colab": {
          "base_uri": "https://localhost:8080/"
        },
        "id": "rRMzMHLt7AAS",
        "outputId": "ef8490e4-b7cf-48e1-b9e4-a4db6ee77c09"
      },
      "execution_count": null,
      "outputs": [
        {
          "output_type": "execute_result",
          "data": {
            "text/plain": [
              "['Hello',\n",
              " 'and',\n",
              " 'Welcome.',\n",
              " '!',\n",
              " 'I',\n",
              " 'am',\n",
              " \"'Bhawuk\",\n",
              " 'Arora',\n",
              " \"'\",\n",
              " ',',\n",
              " 'a',\n",
              " 'dedicated',\n",
              " 'B.Tech',\n",
              " 'student',\n",
              " 'specializing',\n",
              " 'in',\n",
              " 'AI',\n",
              " '&',\n",
              " 'Data',\n",
              " 'Science',\n",
              " 'at',\n",
              " 'Poornima',\n",
              " 'College',\n",
              " 'of',\n",
              " 'Engineering',\n",
              " ',',\n",
              " 'Jaipur',\n",
              " '.']"
            ]
          },
          "metadata": {},
          "execution_count": 63
        }
      ]
    }
  ]
}