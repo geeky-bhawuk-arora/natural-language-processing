{
  "nbformat": 4,
  "nbformat_minor": 0,
  "metadata": {
    "colab": {
      "provenance": [],
      "authorship_tag": "ABX9TyMAvBJpVZS0Xfr/sHgcOQbB",
      "include_colab_link": true
    },
    "kernelspec": {
      "name": "python3",
      "display_name": "Python 3"
    },
    "language_info": {
      "name": "python"
    }
  },
  "cells": [
    {
      "cell_type": "markdown",
      "metadata": {
        "id": "view-in-github",
        "colab_type": "text"
      },
      "source": [
        "<a href=\"https://colab.research.google.com/github/geeky-bhawuk-arora/natural-language-processing/blob/main/Stemming_and_its_types_Text_Preprocessing.ipynb\" target=\"_parent\"><img src=\"https://colab.research.google.com/assets/colab-badge.svg\" alt=\"Open In Colab\"/></a>"
      ]
    },
    {
      "cell_type": "code",
      "execution_count": null,
      "metadata": {
        "id": "k7SVpeRMJnv2"
      },
      "outputs": [],
      "source": [
        "# Classification\n",
        "# Commment on a product is a positive review or, a negative review\n",
        "# Review ----> [eat, eating, eaten] --> eat || [going, go, gone]--> go\n",
        "\n",
        "words = [\"eating\",\"eats\",\"eaten\",\"writes\",\"programming\",\"programs\",\"history\",\"finally\",\"finalize\"]"
      ]
    },
    {
      "cell_type": "code",
      "source": [
        "# PorterStemmer\n",
        "\n",
        "from nltk.stem import PorterStemmer\n",
        "ps = PorterStemmer()"
      ],
      "metadata": {
        "id": "hJe4UWFHNz8b"
      },
      "execution_count": null,
      "outputs": []
    }
  ]
}